{
 "cells": [
  {
   "cell_type": "markdown",
   "id": "76ad444f",
   "metadata": {},
   "source": [
    "<font color='darkred'> Unless otherwise noted, **this notebook will not be reviewed or autograded.**</font> You are welcome to use it for scratchwork, but **only the files listed in the exercises will be checked.**\n",
    "\n",
    "---\n",
    "\n",
    "# Exercises\n",
    "\n",
    "For these exercises, add your functions to the *apputil\\.py* file. If you like, you're welcome to adjust the *app\\.py* file, but it is not required.\n",
    "\n",
    "## Exercise 1\n",
    "\n",
    "Create a function `palindrome(word)` that receives a string and returns `True` or `False` depending on whether it is a palindrome.  A palindrome is a word, phrase, or sequence that reads the same backward as forward. Examples of palindromes are `racecar` and `Nurses Run`. This function can be case *insensitive*, and it should ignore spaces and punctuation.\n",
    "\n",
    "- Take a look at the `.lower()` and `.replace(\",\")` methods on a string.\n",
    "- Think about how you can reverse a string\n",
    "\n",
    "**A few test cases:**\n",
    "\n",
    "- `racecar`\n",
    "- `Nurses Run`\n",
    "- `Sit on a potato pan, Otis.`"
   ]
  },
  {
   "cell_type": "code",
   "execution_count": 11,
   "id": "4d0fd3fe",
   "metadata": {},
   "outputs": [
    {
     "name": "stdout",
     "output_type": "stream",
     "text": [
      "True\n",
      "True\n",
      "True\n",
      "True\n",
      "True\n"
     ]
    }
   ],
   "source": [
    "#Generate a function in Python for solving palindrome with attributes taken as words or sentences with spaces as well as punctuations. \n",
    "#Also keep in mind that the function receiving the strings would return true or False depending on whether it is a palindrome or not.\n",
    "#Example of a Palindrome is 'racecar'. it reads the same forward or backward. Another example for your reference is 'Nurses run' since it reads the same if we remove the space between them.\n",
    "#Another important thing to note down for you is i need 0 and o to be seen as same in testcases like for the testcase of 'Sit on a potato pan, 0tis'. Do this as well\n",
    "\n",
    "def normalize(s):\n",
    "    # Remove spaces and punctuation, convert to lowercase, and treat '0' as 'o'\n",
    "    return ''.join(('o' if c.lower() in ['o', '0'] else c.lower()) for c in s if c.isalnum())\n",
    "\n",
    "def palindrome(s):\n",
    "    cleaned = normalize(s)\n",
    "    cleaned = ''.join(c.lower() for c in s if c.isalnum())\n",
    "    # Check if the cleaned string is equal to its reverse\n",
    "    reversed_str = cleaned[::-1]\n",
    "    return cleaned == reversed_str\n",
    "\n",
    "s = \"A man, a plan, a canal: Panama\"\n",
    "print(palindrome(s))\n",
    "\n",
    "s1 = \"Nurses run\"\n",
    "print(palindrome(s1))\n",
    "\n",
    "s2 = \"N0 lem0n, n0 mel0n\"\n",
    "print(palindrome(s2))\n",
    "# The issue is that in is_palindrome, you are re-cleaning s instead of using the normalized version.\n",
    "# Let's fix is_palindrome to use the cleaned string from normalize(s):\n",
    "\n",
    "def palindrome(s):\n",
    "    cleaned = normalize(s)\n",
    "    # Check if the cleaned string is equal to its reverse\n",
    "    reversed_str = cleaned[::-1]\n",
    "    return cleaned == reversed_str\n",
    "\n",
    "s3 = \"No lemon, no mel0n\"\n",
    "print(palindrome(s3))\n",
    "\n",
    "s4 = \"Sit on a potato pan, 0tis\"\n",
    "print(palindrome(s4))"
   ]
  },
  {
   "cell_type": "markdown",
   "id": "d6d15685",
   "metadata": {},
   "source": [
    "## exercise 2\n",
    "\n",
    "In programming languages, and especially in [LISP](https://en.wikipedia.org/wiki/Lisp_(programming_language)), there can be a lot of parentheses. The parentheses have to be \"balanced\" to be valid. For example, `()(())` is balanced, but `()())` is not balanced. Also, `)((())` is not balanced. (Think mathematics.)\n",
    "\n",
    "Write a function `parentheses(sequence)` that takes a string and returns `True` if the string's parentheses are balanced, `False` if they are not.\n",
    "\n",
    "*Once you are finished, see if you can come up with a second way to solve the problem.*\n",
    "\n",
    "> Give [Python Tutor](https://pythontutor.com/) a try this week! It can be a helpful tool for debugging Python :).\n",
    "\n",
    "**Test Cases:**\n",
    "\n",
    " * `((blah)()()())` should return `True`\n",
    " * `(((())blee))` should return `True`\n",
    " * `(()hello((())()))` should return `True`\n",
    " * `((((((())` should return `False`\n",
    " * `()))` should return `False`"
   ]
  },
  {
   "cell_type": "code",
   "execution_count": 9,
   "id": "396c9c08",
   "metadata": {},
   "outputs": [
    {
     "name": "stdout",
     "output_type": "stream",
     "text": [
      "True\n",
      "True\n",
      "True\n",
      "False\n",
      "False\n",
      "True\n",
      "True\n",
      "True\n",
      "False\n",
      "False\n",
      "True\n",
      "False\n",
      "False\n"
     ]
    }
   ],
   "source": [
    "#Generate a function called parentheses with the attribute passing as sequence that takes a string and return 'True' if the string's parentheses are balanced, False if they aren't\n",
    "def parentheses_stack(sequence):\n",
    "    stack = []\n",
    "    for char in sequence:\n",
    "        if char == '(':\n",
    "            stack.append(char)\n",
    "        elif char == ')':\n",
    "            if not stack:\n",
    "                return False\n",
    "            stack.pop()\n",
    "    return not stack\n",
    "\n",
    "#Generate another way to solve this problem with better time or space complexity\n",
    "def parentheses_balance(sequence):\n",
    "    balance = 0\n",
    "    for char in sequence:\n",
    "        if char == '(':\n",
    "            balance += 1\n",
    "        elif char == ')':\n",
    "            balance -= 1\n",
    "        if balance < 0:\n",
    "            return False\n",
    "    return balance == 0\n",
    "\n",
    "# Test cases\n",
    "print(parentheses_stack(\"((blah)()()())\"))      # True\n",
    "print(parentheses_stack(\"(((())blee))\"))        # True\n",
    "print(parentheses_stack(\"(()hello((())()))\"))   # True\n",
    "print(parentheses_stack(\"((((((())\"))           # False\n",
    "print(parentheses_stack(\"()))\"))                # False\n",
    "\n",
    "print(parentheses_balance(\"((blah)()()())\"))      # True\n",
    "print(parentheses_balance(\"(((())blee))\"))        # True\n",
    "print(parentheses_balance(\"(()hello((())()))\"))   # True\n",
    "print(parentheses_balance(\"((((((())\"))           # False\n",
    "print(parentheses_balance(\"()))\"))                # False\n",
    "# how is the second implementation better than the first one?\n",
    "# The second implementation is better in terms of space complexity because it uses a single integer variable (balance) instead of a stack to keep track of the parentheses. This reduces the memory overhead, especially for long strings with many nested parentheses.\n",
    "stri1 = \"(((ABC)))\"\n",
    "stri2 = \"((qc)\"\n",
    "stri3 = \"()q)(\"\n",
    "\n",
    "print(parentheses_balance(stri1))  # False\n",
    "print(parentheses_balance(stri2))  # False\n",
    "print(parentheses_balance(stri3))  # False"
   ]
  }
 ],
 "metadata": {
  "kernelspec": {
   "display_name": "base",
   "language": "python",
   "name": "python3"
  },
  "language_info": {
   "codemirror_mode": {
    "name": "ipython",
    "version": 3
   },
   "file_extension": ".py",
   "mimetype": "text/x-python",
   "name": "python",
   "nbconvert_exporter": "python",
   "pygments_lexer": "ipython3",
   "version": "3.11.11"
  }
 },
 "nbformat": 4,
 "nbformat_minor": 5
}
