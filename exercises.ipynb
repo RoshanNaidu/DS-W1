{
 "cells": [
  {
   "cell_type": "markdown",
   "id": "76ad444f",
   "metadata": {},
   "source": [
    "<font color='darkred'> Unless otherwise noted, **this notebook will not be reviewed or autograded.**</font> You are welcome to use it for scratchwork, but **only the files listed in the exercises will be checked.**\n",
    "\n",
    "---\n",
    "\n",
    "# Exercises\n",
    "\n",
    "For these exercises, add your functions to the *apputil\\.py* file. If you like, you're welcome to adjust the *app\\.py* file, but it is not required.\n",
    "\n",
    "## Exercise 1\n",
    "\n",
    "Create a function `palindrome(word)` that receives a string and returns `True` or `False` depending on whether it is a palindrome.  A palindrome is a word, phrase, or sequence that reads the same backward as forward. Examples of palindromes are `racecar` and `Nurses Run`. This function can be case *insensitive*, and it should ignore spaces and punctuation.\n",
    "\n",
    "- Take a look at the `.lower()` and `.replace(\",\")` methods on a string.\n",
    "- Think about how you can reverse a string\n",
    "\n",
    "**A few test cases:**\n",
    "\n",
    "- `racecar`\n",
    "- `Nurses Run`\n",
    "- `Sit on a potato pan, Otis.`"
   ]
  },
  {
   "cell_type": "code",
   "execution_count": 1,
   "id": "4d0fd3fe",
   "metadata": {},
   "outputs": [
    {
     "name": "stdout",
     "output_type": "stream",
     "text": [
      "True\n",
      "True\n"
     ]
    }
   ],
   "source": [
    "\n",
    "#Defining a function to remove spaces, punctuation and convert the letters to lowercase. Also to treat '0' as 'o'\n",
    "def normalize(s):\n",
    "    # Remove spaces and punctuation, convert to lowercase, and treat '0' as 'o'\n",
    "    # loops through each alphanumeric character in 's', replacing 'o' or '0' with 'o', and converts other characters to lowercase. The result is joined into a newer string\n",
    "    return ''.join(('o' if c.lower() in ['o', '0'] else c.lower()) for c in s if c.isalnum())\n",
    "\n",
    "#Generate a function in Python for solving palindrome with attributes taken as words or sentences with spaces as well as punctuations\n",
    "def palindrome(s):\n",
    "    cleaned = normalize(s) # Normalize the input string\n",
    "    # Check if the cleaned string is equal to its reverse\n",
    "    reversed_str = cleaned[::-1]\n",
    "    return cleaned == reversed_str # Check if the cleaned string is a palindrome or not\n",
    "\n",
    "# Test cases that I tried\n",
    "s1 = \"No lemon, no mel0n\"\n",
    "print(palindrome(s1))\n",
    "\n",
    "s2 = \"Sit on a potato pan, 0tis\"\n",
    "print(palindrome(s2))\n"
   ]
  },
  {
   "cell_type": "markdown",
   "id": "d6d15685",
   "metadata": {},
   "source": [
    "## exercise 2\n",
    "\n",
    "In programming languages, and especially in [LISP](https://en.wikipedia.org/wiki/Lisp_(programming_language)), there can be a lot of parentheses. The parentheses have to be \"balanced\" to be valid. For example, `()(())` is balanced, but `()())` is not balanced. Also, `)((())` is not balanced. (Think mathematics.)\n",
    "\n",
    "Write a function `parentheses(sequence)` that takes a string and returns `True` if the string's parentheses are balanced, `False` if they are not.\n",
    "\n",
    "*Once you are finished, see if you can come up with a second way to solve the problem.*\n",
    "\n",
    "> Give [Python Tutor](https://pythontutor.com/) a try this week! It can be a helpful tool for debugging Python :).\n",
    "\n",
    "**Test Cases:**\n",
    "\n",
    " * `((blah)()()())` should return `True`\n",
    " * `(((())blee))` should return `True`\n",
    " * `(()hello((())()))` should return `True`\n",
    " * `((((((())` should return `False`\n",
    " * `()))` should return `False`"
   ]
  },
  {
   "cell_type": "code",
   "execution_count": 2,
   "id": "396c9c08",
   "metadata": {},
   "outputs": [
    {
     "name": "stdout",
     "output_type": "stream",
     "text": [
      "True\n",
      "True\n",
      "True\n",
      "False\n",
      "False\n",
      "True\n",
      "False\n",
      "False\n"
     ]
    }
   ],
   "source": [
    "#Generate a function called parentheses with the attribute passing as sequence that takes a string and return 'TRUE' if the string's parentheses are balanced, 'FALSE' if they aren't\n",
    "def parentheses_stack(sequence):\n",
    "    stack = [] # Initialize empty stack\n",
    "    for char in sequence: # Iterate through each character in sequence\n",
    "        if char == '(': # If character is '('\n",
    "            stack.append(char) # Push in the stack\n",
    "        elif char == ')': # If the character is ')'\n",
    "            if not stack: # If stack is empty\n",
    "                return False # Unmatched closing parenthesis\n",
    "            stack.pop() # Pop the matching opening parenthesis\n",
    "    return not stack # If stack is empty, it means that the parentheses are balanced\n",
    "\n",
    "# Another way to solve this problem with better space complexity\n",
    "def parentheses_balance(sequence):\n",
    "    balance = 0 # Initialize balance counter\n",
    "    for char in sequence: # Iterate through each character in sequence\n",
    "        if char == '(': # If character is '('\n",
    "            balance += 1 # Increment balance\n",
    "        elif char == ')': # If character is ')'\n",
    "            balance -= 1 # Decrement balance\n",
    "        if balance < 0: # If balance is negative\n",
    "            return False # Then unmatched closing parenthesis\n",
    "    return balance == 0 # If balance is zero, then it means that the parentheses are balanced\n",
    "\n",
    "# Test cases that I tried\n",
    "print(parentheses_balance(\"((blah)()()())\"))\n",
    "print(parentheses_balance(\"(((())blee))\"))\n",
    "print(parentheses_balance(\"(()hello((())()))\"))\n",
    "print(parentheses_balance(\"((((((())\"))\n",
    "print(parentheses_balance(\"()))\"))\n",
    "\n",
    "# The second implementation is better in terms of space complexity because it uses a single integer variable (balance) instead of a stack to keep track of the parentheses. This reduces the memory overhead, especially for long strings with many nested parentheses.\n",
    "stri1 = \"(((ABC)))\"\n",
    "stri2 = \"((qc)\"\n",
    "stri3 = \"()q)(\"\n",
    "\n",
    "print(parentheses_balance(stri1))\n",
    "print(parentheses_balance(stri2))\n",
    "print(parentheses_balance(stri3))"
   ]
  }
 ],
 "metadata": {
  "kernelspec": {
   "display_name": "base",
   "language": "python",
   "name": "python3"
  },
  "language_info": {
   "codemirror_mode": {
    "name": "ipython",
    "version": 3
   },
   "file_extension": ".py",
   "mimetype": "text/x-python",
   "name": "python",
   "nbconvert_exporter": "python",
   "pygments_lexer": "ipython3",
   "version": "3.11.11"
  }
 },
 "nbformat": 4,
 "nbformat_minor": 5
}
